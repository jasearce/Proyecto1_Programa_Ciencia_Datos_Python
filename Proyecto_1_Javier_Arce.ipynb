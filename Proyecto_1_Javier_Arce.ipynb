{
  "nbformat": 4,
  "nbformat_minor": 0,
  "metadata": {
    "colab": {
      "name": "Proyecto 1 - Javier Arce.ipynb",
      "provenance": [],
      "authorship_tag": "ABX9TyMiCKLd7RDZ8r8iUttzvwU8",
      "include_colab_link": true
    },
    "kernelspec": {
      "name": "python3",
      "display_name": "Python 3"
    },
    "language_info": {
      "name": "python"
    }
  },
  "cells": [
    {
      "cell_type": "markdown",
      "metadata": {
        "id": "view-in-github",
        "colab_type": "text"
      },
      "source": [
        "<a href=\"https://colab.research.google.com/github/jasearce/Proyecto1_Programa_Ciencia_Datos_Python/blob/main/Proyecto_1_Javier_Arce.ipynb\" target=\"_parent\"><img src=\"https://colab.research.google.com/assets/colab-badge.svg\" alt=\"Open In Colab\"/></a>"
      ]
    },
    {
      "cell_type": "markdown",
      "source": [
        "#**Ejercicio # 1**:\n",
        "Escribir un programa que pregunte al usuario por las ventas de los últimos 5 días, y muestre por pantalla una serie con los datos de las ventas por producto: Nro de unidades y precio unitario, indexada por los días, antes y después de aplicarles un descuento del 5%."
      ],
      "metadata": {
        "id": "dFvXNd_dt02z"
      }
    },
    {
      "cell_type": "code",
      "source": [
        "#Importamos las librerias correspondientes\n",
        "import numpy as np\n",
        "import pandas as pd\n",
        "from datetime import timedelta, date"
      ],
      "metadata": {
        "id": "5oO0Uum6wXPB"
      },
      "execution_count": null,
      "outputs": []
    },
    {
      "cell_type": "code",
      "source": [
        "#Funcion para depurar datos ingresados por el usuario\n",
        "def obtenerValorCantidad(ingreso_datos):\n",
        "  valorCantidad_lst = list()\n",
        "  salida = True\n",
        "  listaValorCantidad = ingreso_datos.split(',')\n",
        "  if len(listaValorCantidad) < 2:\n",
        "    salida = False\n",
        "    print(\"Faltan datos para generar la serie!\")\n",
        "  else:\n",
        "    valor_vendido = float(listaValorCantidad[0])\n",
        "    cantidad_vendida = int(listaValorCantidad[1])\n",
        "    valorCantidad_lst.append(valor_vendido)\n",
        "    valorCantidad_lst.append(cantidad_vendida)\n",
        "    salida = True\n",
        "    return valorCantidad_lst, salida\n"
      ],
      "metadata": {
        "id": "5YikdnH62wUo"
      },
      "execution_count": null,
      "outputs": []
    },
    {
      "cell_type": "code",
      "source": [
        "#Lazo while para preguntar por las ventas de los ultimos 5 dias.\n",
        "#Se utiliza la funcion creada anteriormente para depurar el string obtenido por consola.\n",
        "print(\"***** Inicio del programa *******\")\n",
        "dias = 0\n",
        "venta_por_producto_dict = dict()\n",
        "fecha_actual = date.today()\n",
        "while dias < 5:\n",
        "  ventas_lst = []\n",
        "  correcto = False\n",
        "  while not correcto:\n",
        "    info_venta = str(input(f\"Ingrese el valor y la cantidad de producto vendido en el dia {dias + 1} separado por coma: \"))\n",
        "    if ',' in info_venta:\n",
        "      venta_por_producto_dict[dias], correcto = obtenerValorCantidad(info_venta)\n",
        "      dias += 1\n",
        "print(venta_por_producto_dict)"
      ],
      "metadata": {
        "colab": {
          "base_uri": "https://localhost:8080/"
        },
        "id": "gfpjtsh-ufpl",
        "outputId": "4ce0eebf-8cd5-4962-d701-b0943f0552fe"
      },
      "execution_count": null,
      "outputs": [
        {
          "output_type": "stream",
          "name": "stdout",
          "text": [
            "***** Inicio del programa *******\n",
            "Ingrese el valor y la cantidad de producto vendido en el dia 1 separado por coma: 10,5\n",
            "Ingrese el valor y la cantidad de producto vendido en el dia 2 separado por coma: 25,9\n",
            "Ingrese el valor y la cantidad de producto vendido en el dia 3 separado por coma: 12,9\n",
            "Ingrese el valor y la cantidad de producto vendido en el dia 4 separado por coma: 14,8\n",
            "Ingrese el valor y la cantidad de producto vendido en el dia 5 separado por coma: 16,78\n",
            "{0: [10.0, 5], 1: [25.0, 9], 2: [12.0, 9], 3: [14.0, 8], 4: [16.0, 78]}\n"
          ]
        }
      ]
    },
    {
      "cell_type": "code",
      "source": [
        "#Agregamos las listas almacenadas en el diccionario por cada dia ingresado en una lista general\n",
        "#Esto para poder crear el DataFrame final\n",
        "data_lst = list()\n",
        "for key in venta_por_producto_dict:\n",
        "  print(venta_por_producto_dict[key])\n",
        "  data_lst.append(venta_por_producto_dict[key])"
      ],
      "metadata": {
        "colab": {
          "base_uri": "https://localhost:8080/"
        },
        "id": "TUFwedp5-pDF",
        "outputId": "80f98b80-ad03-438e-a87b-317e63652360"
      },
      "execution_count": null,
      "outputs": [
        {
          "output_type": "stream",
          "name": "stdout",
          "text": [
            "[10.0, 5]\n",
            "[25.0, 9]\n",
            "[12.0, 9]\n",
            "[14.0, 8]\n",
            "[16.0, 78]\n"
          ]
        }
      ]
    },
    {
      "cell_type": "code",
      "source": [
        "#Creamos el DataFrame con la data procesada que viene desde el usuario e indexamos por\n",
        "#por la fecha a raves de pd.data_range()\n",
        "print(data_lst)\n",
        "print(\"DataFrame previo al descuento\")\n",
        "df = pd.DataFrame(data=data_lst,columns=['Precio Unitario', 'Numero de unidades'],index=pd.date_range(\"20220415\",periods=5))\n",
        "df"
      ],
      "metadata": {
        "colab": {
          "base_uri": "https://localhost:8080/",
          "height": 241
        },
        "id": "aRis52H7yYcw",
        "outputId": "fd4d54cf-92d4-4bdd-c297-1b1c68582530"
      },
      "execution_count": null,
      "outputs": [
        {
          "output_type": "stream",
          "name": "stdout",
          "text": [
            "[[10.0, 5], [25.0, 9], [12.0, 9], [14.0, 8], [16.0, 78]]\n",
            "DataFrame previo al descuento\n"
          ]
        },
        {
          "output_type": "execute_result",
          "data": {
            "text/plain": [
              "            Precio Unitario  Numero de unidades\n",
              "2022-04-15             10.0                   5\n",
              "2022-04-16             25.0                   9\n",
              "2022-04-17             12.0                   9\n",
              "2022-04-18             14.0                   8\n",
              "2022-04-19             16.0                  78"
            ],
            "text/html": [
              "\n",
              "  <div id=\"df-44a938a9-9ac6-4372-98ec-47fed07dea84\">\n",
              "    <div class=\"colab-df-container\">\n",
              "      <div>\n",
              "<style scoped>\n",
              "    .dataframe tbody tr th:only-of-type {\n",
              "        vertical-align: middle;\n",
              "    }\n",
              "\n",
              "    .dataframe tbody tr th {\n",
              "        vertical-align: top;\n",
              "    }\n",
              "\n",
              "    .dataframe thead th {\n",
              "        text-align: right;\n",
              "    }\n",
              "</style>\n",
              "<table border=\"1\" class=\"dataframe\">\n",
              "  <thead>\n",
              "    <tr style=\"text-align: right;\">\n",
              "      <th></th>\n",
              "      <th>Precio Unitario</th>\n",
              "      <th>Numero de unidades</th>\n",
              "    </tr>\n",
              "  </thead>\n",
              "  <tbody>\n",
              "    <tr>\n",
              "      <th>2022-04-15</th>\n",
              "      <td>10.0</td>\n",
              "      <td>5</td>\n",
              "    </tr>\n",
              "    <tr>\n",
              "      <th>2022-04-16</th>\n",
              "      <td>25.0</td>\n",
              "      <td>9</td>\n",
              "    </tr>\n",
              "    <tr>\n",
              "      <th>2022-04-17</th>\n",
              "      <td>12.0</td>\n",
              "      <td>9</td>\n",
              "    </tr>\n",
              "    <tr>\n",
              "      <th>2022-04-18</th>\n",
              "      <td>14.0</td>\n",
              "      <td>8</td>\n",
              "    </tr>\n",
              "    <tr>\n",
              "      <th>2022-04-19</th>\n",
              "      <td>16.0</td>\n",
              "      <td>78</td>\n",
              "    </tr>\n",
              "  </tbody>\n",
              "</table>\n",
              "</div>\n",
              "      <button class=\"colab-df-convert\" onclick=\"convertToInteractive('df-44a938a9-9ac6-4372-98ec-47fed07dea84')\"\n",
              "              title=\"Convert this dataframe to an interactive table.\"\n",
              "              style=\"display:none;\">\n",
              "        \n",
              "  <svg xmlns=\"http://www.w3.org/2000/svg\" height=\"24px\"viewBox=\"0 0 24 24\"\n",
              "       width=\"24px\">\n",
              "    <path d=\"M0 0h24v24H0V0z\" fill=\"none\"/>\n",
              "    <path d=\"M18.56 5.44l.94 2.06.94-2.06 2.06-.94-2.06-.94-.94-2.06-.94 2.06-2.06.94zm-11 1L8.5 8.5l.94-2.06 2.06-.94-2.06-.94L8.5 2.5l-.94 2.06-2.06.94zm10 10l.94 2.06.94-2.06 2.06-.94-2.06-.94-.94-2.06-.94 2.06-2.06.94z\"/><path d=\"M17.41 7.96l-1.37-1.37c-.4-.4-.92-.59-1.43-.59-.52 0-1.04.2-1.43.59L10.3 9.45l-7.72 7.72c-.78.78-.78 2.05 0 2.83L4 21.41c.39.39.9.59 1.41.59.51 0 1.02-.2 1.41-.59l7.78-7.78 2.81-2.81c.8-.78.8-2.07 0-2.86zM5.41 20L4 18.59l7.72-7.72 1.47 1.35L5.41 20z\"/>\n",
              "  </svg>\n",
              "      </button>\n",
              "      \n",
              "  <style>\n",
              "    .colab-df-container {\n",
              "      display:flex;\n",
              "      flex-wrap:wrap;\n",
              "      gap: 12px;\n",
              "    }\n",
              "\n",
              "    .colab-df-convert {\n",
              "      background-color: #E8F0FE;\n",
              "      border: none;\n",
              "      border-radius: 50%;\n",
              "      cursor: pointer;\n",
              "      display: none;\n",
              "      fill: #1967D2;\n",
              "      height: 32px;\n",
              "      padding: 0 0 0 0;\n",
              "      width: 32px;\n",
              "    }\n",
              "\n",
              "    .colab-df-convert:hover {\n",
              "      background-color: #E2EBFA;\n",
              "      box-shadow: 0px 1px 2px rgba(60, 64, 67, 0.3), 0px 1px 3px 1px rgba(60, 64, 67, 0.15);\n",
              "      fill: #174EA6;\n",
              "    }\n",
              "\n",
              "    [theme=dark] .colab-df-convert {\n",
              "      background-color: #3B4455;\n",
              "      fill: #D2E3FC;\n",
              "    }\n",
              "\n",
              "    [theme=dark] .colab-df-convert:hover {\n",
              "      background-color: #434B5C;\n",
              "      box-shadow: 0px 1px 3px 1px rgba(0, 0, 0, 0.15);\n",
              "      filter: drop-shadow(0px 1px 2px rgba(0, 0, 0, 0.3));\n",
              "      fill: #FFFFFF;\n",
              "    }\n",
              "  </style>\n",
              "\n",
              "      <script>\n",
              "        const buttonEl =\n",
              "          document.querySelector('#df-44a938a9-9ac6-4372-98ec-47fed07dea84 button.colab-df-convert');\n",
              "        buttonEl.style.display =\n",
              "          google.colab.kernel.accessAllowed ? 'block' : 'none';\n",
              "\n",
              "        async function convertToInteractive(key) {\n",
              "          const element = document.querySelector('#df-44a938a9-9ac6-4372-98ec-47fed07dea84');\n",
              "          const dataTable =\n",
              "            await google.colab.kernel.invokeFunction('convertToInteractive',\n",
              "                                                     [key], {});\n",
              "          if (!dataTable) return;\n",
              "\n",
              "          const docLinkHtml = 'Like what you see? Visit the ' +\n",
              "            '<a target=\"_blank\" href=https://colab.research.google.com/notebooks/data_table.ipynb>data table notebook</a>'\n",
              "            + ' to learn more about interactive tables.';\n",
              "          element.innerHTML = '';\n",
              "          dataTable['output_type'] = 'display_data';\n",
              "          await google.colab.output.renderOutput(dataTable, element);\n",
              "          const docLink = document.createElement('div');\n",
              "          docLink.innerHTML = docLinkHtml;\n",
              "          element.appendChild(docLink);\n",
              "        }\n",
              "      </script>\n",
              "    </div>\n",
              "  </div>\n",
              "  "
            ]
          },
          "metadata": {},
          "execution_count": 8
        }
      ]
    },
    {
      "cell_type": "code",
      "source": [
        "#Aplicamos el descuento del 5% al precio unitario del df\n",
        "print(\"DataFrame luego del descuento\")\n",
        "df[\"Descuento del 5%\"] = df[\"Precio Unitario\"]*0.95\n",
        "df"
      ],
      "metadata": {
        "colab": {
          "base_uri": "https://localhost:8080/",
          "height": 223
        },
        "id": "T14FtQGj0uXU",
        "outputId": "d293fa35-fdd5-4e36-80a6-ec5f7be07336"
      },
      "execution_count": null,
      "outputs": [
        {
          "output_type": "stream",
          "name": "stdout",
          "text": [
            "DataFrame luego del descuento\n"
          ]
        },
        {
          "output_type": "execute_result",
          "data": {
            "text/plain": [
              "            Precio Unitario  Numero de unidades  Descuento del 5%\n",
              "2022-04-15             10.0                   5              9.50\n",
              "2022-04-16             25.0                   9             23.75\n",
              "2022-04-17             12.0                   9             11.40\n",
              "2022-04-18             14.0                   8             13.30\n",
              "2022-04-19             16.0                  78             15.20"
            ],
            "text/html": [
              "\n",
              "  <div id=\"df-a50a15e6-ee21-4b41-9743-66f15bb52932\">\n",
              "    <div class=\"colab-df-container\">\n",
              "      <div>\n",
              "<style scoped>\n",
              "    .dataframe tbody tr th:only-of-type {\n",
              "        vertical-align: middle;\n",
              "    }\n",
              "\n",
              "    .dataframe tbody tr th {\n",
              "        vertical-align: top;\n",
              "    }\n",
              "\n",
              "    .dataframe thead th {\n",
              "        text-align: right;\n",
              "    }\n",
              "</style>\n",
              "<table border=\"1\" class=\"dataframe\">\n",
              "  <thead>\n",
              "    <tr style=\"text-align: right;\">\n",
              "      <th></th>\n",
              "      <th>Precio Unitario</th>\n",
              "      <th>Numero de unidades</th>\n",
              "      <th>Descuento del 5%</th>\n",
              "    </tr>\n",
              "  </thead>\n",
              "  <tbody>\n",
              "    <tr>\n",
              "      <th>2022-04-15</th>\n",
              "      <td>10.0</td>\n",
              "      <td>5</td>\n",
              "      <td>9.50</td>\n",
              "    </tr>\n",
              "    <tr>\n",
              "      <th>2022-04-16</th>\n",
              "      <td>25.0</td>\n",
              "      <td>9</td>\n",
              "      <td>23.75</td>\n",
              "    </tr>\n",
              "    <tr>\n",
              "      <th>2022-04-17</th>\n",
              "      <td>12.0</td>\n",
              "      <td>9</td>\n",
              "      <td>11.40</td>\n",
              "    </tr>\n",
              "    <tr>\n",
              "      <th>2022-04-18</th>\n",
              "      <td>14.0</td>\n",
              "      <td>8</td>\n",
              "      <td>13.30</td>\n",
              "    </tr>\n",
              "    <tr>\n",
              "      <th>2022-04-19</th>\n",
              "      <td>16.0</td>\n",
              "      <td>78</td>\n",
              "      <td>15.20</td>\n",
              "    </tr>\n",
              "  </tbody>\n",
              "</table>\n",
              "</div>\n",
              "      <button class=\"colab-df-convert\" onclick=\"convertToInteractive('df-a50a15e6-ee21-4b41-9743-66f15bb52932')\"\n",
              "              title=\"Convert this dataframe to an interactive table.\"\n",
              "              style=\"display:none;\">\n",
              "        \n",
              "  <svg xmlns=\"http://www.w3.org/2000/svg\" height=\"24px\"viewBox=\"0 0 24 24\"\n",
              "       width=\"24px\">\n",
              "    <path d=\"M0 0h24v24H0V0z\" fill=\"none\"/>\n",
              "    <path d=\"M18.56 5.44l.94 2.06.94-2.06 2.06-.94-2.06-.94-.94-2.06-.94 2.06-2.06.94zm-11 1L8.5 8.5l.94-2.06 2.06-.94-2.06-.94L8.5 2.5l-.94 2.06-2.06.94zm10 10l.94 2.06.94-2.06 2.06-.94-2.06-.94-.94-2.06-.94 2.06-2.06.94z\"/><path d=\"M17.41 7.96l-1.37-1.37c-.4-.4-.92-.59-1.43-.59-.52 0-1.04.2-1.43.59L10.3 9.45l-7.72 7.72c-.78.78-.78 2.05 0 2.83L4 21.41c.39.39.9.59 1.41.59.51 0 1.02-.2 1.41-.59l7.78-7.78 2.81-2.81c.8-.78.8-2.07 0-2.86zM5.41 20L4 18.59l7.72-7.72 1.47 1.35L5.41 20z\"/>\n",
              "  </svg>\n",
              "      </button>\n",
              "      \n",
              "  <style>\n",
              "    .colab-df-container {\n",
              "      display:flex;\n",
              "      flex-wrap:wrap;\n",
              "      gap: 12px;\n",
              "    }\n",
              "\n",
              "    .colab-df-convert {\n",
              "      background-color: #E8F0FE;\n",
              "      border: none;\n",
              "      border-radius: 50%;\n",
              "      cursor: pointer;\n",
              "      display: none;\n",
              "      fill: #1967D2;\n",
              "      height: 32px;\n",
              "      padding: 0 0 0 0;\n",
              "      width: 32px;\n",
              "    }\n",
              "\n",
              "    .colab-df-convert:hover {\n",
              "      background-color: #E2EBFA;\n",
              "      box-shadow: 0px 1px 2px rgba(60, 64, 67, 0.3), 0px 1px 3px 1px rgba(60, 64, 67, 0.15);\n",
              "      fill: #174EA6;\n",
              "    }\n",
              "\n",
              "    [theme=dark] .colab-df-convert {\n",
              "      background-color: #3B4455;\n",
              "      fill: #D2E3FC;\n",
              "    }\n",
              "\n",
              "    [theme=dark] .colab-df-convert:hover {\n",
              "      background-color: #434B5C;\n",
              "      box-shadow: 0px 1px 3px 1px rgba(0, 0, 0, 0.15);\n",
              "      filter: drop-shadow(0px 1px 2px rgba(0, 0, 0, 0.3));\n",
              "      fill: #FFFFFF;\n",
              "    }\n",
              "  </style>\n",
              "\n",
              "      <script>\n",
              "        const buttonEl =\n",
              "          document.querySelector('#df-a50a15e6-ee21-4b41-9743-66f15bb52932 button.colab-df-convert');\n",
              "        buttonEl.style.display =\n",
              "          google.colab.kernel.accessAllowed ? 'block' : 'none';\n",
              "\n",
              "        async function convertToInteractive(key) {\n",
              "          const element = document.querySelector('#df-a50a15e6-ee21-4b41-9743-66f15bb52932');\n",
              "          const dataTable =\n",
              "            await google.colab.kernel.invokeFunction('convertToInteractive',\n",
              "                                                     [key], {});\n",
              "          if (!dataTable) return;\n",
              "\n",
              "          const docLinkHtml = 'Like what you see? Visit the ' +\n",
              "            '<a target=\"_blank\" href=https://colab.research.google.com/notebooks/data_table.ipynb>data table notebook</a>'\n",
              "            + ' to learn more about interactive tables.';\n",
              "          element.innerHTML = '';\n",
              "          dataTable['output_type'] = 'display_data';\n",
              "          await google.colab.output.renderOutput(dataTable, element);\n",
              "          const docLink = document.createElement('div');\n",
              "          docLink.innerHTML = docLinkHtml;\n",
              "          element.appendChild(docLink);\n",
              "        }\n",
              "      </script>\n",
              "    </div>\n",
              "  </div>\n",
              "  "
            ]
          },
          "metadata": {},
          "execution_count": 11
        }
      ]
    },
    {
      "cell_type": "code",
      "source": [
        "print(\"***** Fin del programa *******\")"
      ],
      "metadata": {
        "colab": {
          "base_uri": "https://localhost:8080/"
        },
        "id": "hEjV2D4S7caD",
        "outputId": "dfb1e28f-58a9-4edc-c05d-26e8bb2954f2"
      },
      "execution_count": null,
      "outputs": [
        {
          "output_type": "stream",
          "name": "stdout",
          "text": [
            "***** Fin del programa *******\n"
          ]
        }
      ]
    },
    {
      "cell_type": "markdown",
      "source": [
        "------------------------------------------"
      ],
      "metadata": {
        "id": "PNTNdgM17sen"
      }
    },
    {
      "cell_type": "markdown",
      "source": [
        "#**Ejercicio # 2**\n",
        "\n",
        "Escribir un programa que reciba un diccionario con los ingresos mensuales de los clientes de una empresa, y devuelva una serie con el ingreso mínimo, máximo y media.\n"
      ],
      "metadata": {
        "id": "ruI9XEX67lmV"
      }
    },
    {
      "cell_type": "code",
      "source": [
        "#Creamos el diccionario con valores aleatorios\n",
        "ingresos_mensuales = dict()\n",
        "ingresos_mensuales['Enero'] = round(np.random.uniform(1250,3000),2)\n",
        "ingresos_mensuales['Febrero'] = round(np.random.uniform(1250,3000),2)\n",
        "ingresos_mensuales['Marzo'] = round(np.random.uniform(1250,3000),2)\n",
        "ingresos_mensuales['Abril'] = round(np.random.uniform(1250,3000),2)\n",
        "ingresos_mensuales['Mayo'] = round(np.random.uniform(1250,3000),2)\n",
        "ingresos_mensuales['Junio'] = round(np.random.uniform(1250,3000),2)\n",
        "ingresos_mensuales['Julio'] = round(np.random.uniform(1250,3000),2)\n",
        "ingresos_mensuales['Agosto'] = round(np.random.uniform(1250,3000),2)\n",
        "ingresos_mensuales['Septiembre'] = round(np.random.uniform(1250,3000),2)\n",
        "ingresos_mensuales['Octubre'] = round(np.random.uniform(1250,3000),2)\n",
        "ingresos_mensuales['Noviembre'] = round(np.random.uniform(1250,3000),2)\n",
        "ingresos_mensuales['Diciembre'] = round(np.random.uniform(1250,3000),2)\n",
        "ingresos_mensuales"
      ],
      "metadata": {
        "colab": {
          "base_uri": "https://localhost:8080/"
        },
        "id": "Ue_EjNfp7rb4",
        "outputId": "cf19bc6c-cfc3-4a87-8fe2-af8634d7d6b4"
      },
      "execution_count": null,
      "outputs": [
        {
          "output_type": "execute_result",
          "data": {
            "text/plain": [
              "{'Abril': 2242.26,\n",
              " 'Agosto': 2853.74,\n",
              " 'Diciembre': 1749.39,\n",
              " 'Enero': 2963.51,\n",
              " 'Febrero': 2185.7,\n",
              " 'Julio': 2032.15,\n",
              " 'Junio': 2159.57,\n",
              " 'Marzo': 1396.03,\n",
              " 'Mayo': 1282.8,\n",
              " 'Noviembre': 2285.76,\n",
              " 'Octubre': 2777.82,\n",
              " 'Septiembre': 1767.38}"
            ]
          },
          "metadata": {},
          "execution_count": 22
        }
      ]
    },
    {
      "cell_type": "code",
      "source": [
        "valores_ingresos = list(ingresos_mensuales.values())\n",
        "print(valores_ingresos)\n",
        "ingreso_minimo = np.min(valores_ingresos)\n",
        "ingreso_maximo = np.max(valores_ingresos)\n",
        "ingreso_promedio = round(np.mean(valores_ingresos),2)\n",
        "print(f\"Minimo: {ingreso_minimo}\")\n",
        "print(f\"Maximo: {ingreso_maximo}\")\n",
        "print(f\"Promedio: {ingreso_promedio}\")\n",
        "\n",
        "valores_serie = list()\n",
        "valores_serie.append(ingreso_minimo)\n",
        "valores_serie.append(ingreso_maximo)\n",
        "valores_serie.append(ingreso_promedio)\n",
        "print(valores_serie)"
      ],
      "metadata": {
        "colab": {
          "base_uri": "https://localhost:8080/"
        },
        "id": "TVeYILbD9Sas",
        "outputId": "416c1d5a-0ce1-4afd-841f-c0129d4042b1"
      },
      "execution_count": null,
      "outputs": [
        {
          "output_type": "stream",
          "name": "stdout",
          "text": [
            "[2963.51, 2185.7, 1396.03, 2242.26, 1282.8, 2159.57, 2032.15, 2853.74, 1767.38, 2777.82, 2285.76, 1749.39]\n",
            "Minimo: 1282.8\n",
            "Maximo: 2963.51\n",
            "Promedio: 2141.34\n",
            "[1282.8, 2963.51, 2141.34]\n"
          ]
        }
      ]
    },
    {
      "cell_type": "code",
      "source": [
        "result = pd.Series(data=valores_serie,index=['Minimo', 'Maximo', 'Promedio'])\n",
        "result"
      ],
      "metadata": {
        "colab": {
          "base_uri": "https://localhost:8080/"
        },
        "id": "sF8vHzEPAlfK",
        "outputId": "635b050c-c3ba-4eb4-b677-926c1a01766d"
      },
      "execution_count": null,
      "outputs": [
        {
          "output_type": "execute_result",
          "data": {
            "text/plain": [
              "Minimo      1282.80\n",
              "Maximo      2963.51\n",
              "Promedio    2141.34\n",
              "dtype: float64"
            ]
          },
          "metadata": {},
          "execution_count": 27
        }
      ]
    },
    {
      "cell_type": "markdown",
      "source": [
        "# Ejercicio 3\n",
        "Generar nuevas columna:\n",
        "\n",
        "1.   Columna 1 =  Gasto/Ventas*100.\n",
        "2.   Columna 2 =  Si Ventas>= 30000, imprimir “Meta Superada”, caso contrario imprimir “Meta no Superada”.\n",
        "3.   Columna 3 =  Si Gasto>Ventas, calcular el sobre gasto.\n",
        "4.   Obtener el total de las ventas de los últimos 3 meses.\n",
        "5.   Obtener el total de gastos de febrero a abril."
      ],
      "metadata": {
        "id": "_CrG8zVRB0pM"
      }
    },
    {
      "cell_type": "code",
      "source": [
        "data = {\"Mes\":[\"Enero\",\"Febrero\",\"Marzo\",\"Abril\",\"Mayo\"], \"Ventas\":[30500,35600,28300,33900,42500], \"Gastos\":[22000,23450,18100,35700,32450]}\n",
        "df_original = pd.DataFrame(data, index=None)\n",
        "df_original.Ventas = df_original.Ventas.astype(np.float64)\n",
        "df_original.Gastos = df_original.Gastos.astype(np.float64)\n",
        "df_original"
      ],
      "metadata": {
        "colab": {
          "base_uri": "https://localhost:8080/",
          "height": 206
        },
        "id": "Z-_yXIlmCe9G",
        "outputId": "0024c0fd-0861-4fd8-d161-3d3fead711e6"
      },
      "execution_count": null,
      "outputs": [
        {
          "output_type": "execute_result",
          "data": {
            "text/plain": [
              "       Mes   Ventas   Gastos\n",
              "0    Enero  30500.0  22000.0\n",
              "1  Febrero  35600.0  23450.0\n",
              "2    Marzo  28300.0  18100.0\n",
              "3    Abril  33900.0  35700.0\n",
              "4     Mayo  42500.0  32450.0"
            ],
            "text/html": [
              "\n",
              "  <div id=\"df-190d71e9-8380-40b6-b126-119f3c9bf4a2\">\n",
              "    <div class=\"colab-df-container\">\n",
              "      <div>\n",
              "<style scoped>\n",
              "    .dataframe tbody tr th:only-of-type {\n",
              "        vertical-align: middle;\n",
              "    }\n",
              "\n",
              "    .dataframe tbody tr th {\n",
              "        vertical-align: top;\n",
              "    }\n",
              "\n",
              "    .dataframe thead th {\n",
              "        text-align: right;\n",
              "    }\n",
              "</style>\n",
              "<table border=\"1\" class=\"dataframe\">\n",
              "  <thead>\n",
              "    <tr style=\"text-align: right;\">\n",
              "      <th></th>\n",
              "      <th>Mes</th>\n",
              "      <th>Ventas</th>\n",
              "      <th>Gastos</th>\n",
              "    </tr>\n",
              "  </thead>\n",
              "  <tbody>\n",
              "    <tr>\n",
              "      <th>0</th>\n",
              "      <td>Enero</td>\n",
              "      <td>30500.0</td>\n",
              "      <td>22000.0</td>\n",
              "    </tr>\n",
              "    <tr>\n",
              "      <th>1</th>\n",
              "      <td>Febrero</td>\n",
              "      <td>35600.0</td>\n",
              "      <td>23450.0</td>\n",
              "    </tr>\n",
              "    <tr>\n",
              "      <th>2</th>\n",
              "      <td>Marzo</td>\n",
              "      <td>28300.0</td>\n",
              "      <td>18100.0</td>\n",
              "    </tr>\n",
              "    <tr>\n",
              "      <th>3</th>\n",
              "      <td>Abril</td>\n",
              "      <td>33900.0</td>\n",
              "      <td>35700.0</td>\n",
              "    </tr>\n",
              "    <tr>\n",
              "      <th>4</th>\n",
              "      <td>Mayo</td>\n",
              "      <td>42500.0</td>\n",
              "      <td>32450.0</td>\n",
              "    </tr>\n",
              "  </tbody>\n",
              "</table>\n",
              "</div>\n",
              "      <button class=\"colab-df-convert\" onclick=\"convertToInteractive('df-190d71e9-8380-40b6-b126-119f3c9bf4a2')\"\n",
              "              title=\"Convert this dataframe to an interactive table.\"\n",
              "              style=\"display:none;\">\n",
              "        \n",
              "  <svg xmlns=\"http://www.w3.org/2000/svg\" height=\"24px\"viewBox=\"0 0 24 24\"\n",
              "       width=\"24px\">\n",
              "    <path d=\"M0 0h24v24H0V0z\" fill=\"none\"/>\n",
              "    <path d=\"M18.56 5.44l.94 2.06.94-2.06 2.06-.94-2.06-.94-.94-2.06-.94 2.06-2.06.94zm-11 1L8.5 8.5l.94-2.06 2.06-.94-2.06-.94L8.5 2.5l-.94 2.06-2.06.94zm10 10l.94 2.06.94-2.06 2.06-.94-2.06-.94-.94-2.06-.94 2.06-2.06.94z\"/><path d=\"M17.41 7.96l-1.37-1.37c-.4-.4-.92-.59-1.43-.59-.52 0-1.04.2-1.43.59L10.3 9.45l-7.72 7.72c-.78.78-.78 2.05 0 2.83L4 21.41c.39.39.9.59 1.41.59.51 0 1.02-.2 1.41-.59l7.78-7.78 2.81-2.81c.8-.78.8-2.07 0-2.86zM5.41 20L4 18.59l7.72-7.72 1.47 1.35L5.41 20z\"/>\n",
              "  </svg>\n",
              "      </button>\n",
              "      \n",
              "  <style>\n",
              "    .colab-df-container {\n",
              "      display:flex;\n",
              "      flex-wrap:wrap;\n",
              "      gap: 12px;\n",
              "    }\n",
              "\n",
              "    .colab-df-convert {\n",
              "      background-color: #E8F0FE;\n",
              "      border: none;\n",
              "      border-radius: 50%;\n",
              "      cursor: pointer;\n",
              "      display: none;\n",
              "      fill: #1967D2;\n",
              "      height: 32px;\n",
              "      padding: 0 0 0 0;\n",
              "      width: 32px;\n",
              "    }\n",
              "\n",
              "    .colab-df-convert:hover {\n",
              "      background-color: #E2EBFA;\n",
              "      box-shadow: 0px 1px 2px rgba(60, 64, 67, 0.3), 0px 1px 3px 1px rgba(60, 64, 67, 0.15);\n",
              "      fill: #174EA6;\n",
              "    }\n",
              "\n",
              "    [theme=dark] .colab-df-convert {\n",
              "      background-color: #3B4455;\n",
              "      fill: #D2E3FC;\n",
              "    }\n",
              "\n",
              "    [theme=dark] .colab-df-convert:hover {\n",
              "      background-color: #434B5C;\n",
              "      box-shadow: 0px 1px 3px 1px rgba(0, 0, 0, 0.15);\n",
              "      filter: drop-shadow(0px 1px 2px rgba(0, 0, 0, 0.3));\n",
              "      fill: #FFFFFF;\n",
              "    }\n",
              "  </style>\n",
              "\n",
              "      <script>\n",
              "        const buttonEl =\n",
              "          document.querySelector('#df-190d71e9-8380-40b6-b126-119f3c9bf4a2 button.colab-df-convert');\n",
              "        buttonEl.style.display =\n",
              "          google.colab.kernel.accessAllowed ? 'block' : 'none';\n",
              "\n",
              "        async function convertToInteractive(key) {\n",
              "          const element = document.querySelector('#df-190d71e9-8380-40b6-b126-119f3c9bf4a2');\n",
              "          const dataTable =\n",
              "            await google.colab.kernel.invokeFunction('convertToInteractive',\n",
              "                                                     [key], {});\n",
              "          if (!dataTable) return;\n",
              "\n",
              "          const docLinkHtml = 'Like what you see? Visit the ' +\n",
              "            '<a target=\"_blank\" href=https://colab.research.google.com/notebooks/data_table.ipynb>data table notebook</a>'\n",
              "            + ' to learn more about interactive tables.';\n",
              "          element.innerHTML = '';\n",
              "          dataTable['output_type'] = 'display_data';\n",
              "          await google.colab.output.renderOutput(dataTable, element);\n",
              "          const docLink = document.createElement('div');\n",
              "          docLink.innerHTML = docLinkHtml;\n",
              "          element.appendChild(docLink);\n",
              "        }\n",
              "      </script>\n",
              "    </div>\n",
              "  </div>\n",
              "  "
            ]
          },
          "metadata": {},
          "execution_count": 37
        }
      ]
    },
    {
      "cell_type": "code",
      "source": [
        "df_original[\"Columna 1\"] = round((df_original[\"Ventas\"] / df_original[\"Gastos\"]) *100, 2)\n",
        "df_original[\"Columna 1\"] = df_original[\"Columna 1\"].astype(np.float64)"
      ],
      "metadata": {
        "id": "Q12rg4LjDUsm"
      },
      "execution_count": null,
      "outputs": []
    },
    {
      "cell_type": "code",
      "source": [
        "df_original.loc[df_original[\"Ventas\"] >= 3000, \"Columna 2\"] = \"Meta Superada\"\n",
        "df_original.loc[df_original[\"Ventas\"] < 3000, \"Columna 2\"] = \"Meta no Superada\"\n",
        "df_original"
      ],
      "metadata": {
        "colab": {
          "base_uri": "https://localhost:8080/",
          "height": 206
        },
        "id": "2JCm2iFbDst_",
        "outputId": "55e4cf62-40f6-450a-d748-2d35fc21e868"
      },
      "execution_count": null,
      "outputs": [
        {
          "output_type": "execute_result",
          "data": {
            "text/plain": [
              "       Mes  Ventas  Gastos  Columna 1      Columna 2\n",
              "0    Enero   30500   22000     138.64  Meta Superada\n",
              "1  Febrero   35600   23450     151.81  Meta Superada\n",
              "2    Marzo   28300   18100     156.35  Meta Superada\n",
              "3    Abril   33900   35700      94.96  Meta Superada\n",
              "4     Mayo   42500   32450     130.97  Meta Superada"
            ],
            "text/html": [
              "\n",
              "  <div id=\"df-6c728b05-3e46-45d0-a8ac-0e2f7d524418\">\n",
              "    <div class=\"colab-df-container\">\n",
              "      <div>\n",
              "<style scoped>\n",
              "    .dataframe tbody tr th:only-of-type {\n",
              "        vertical-align: middle;\n",
              "    }\n",
              "\n",
              "    .dataframe tbody tr th {\n",
              "        vertical-align: top;\n",
              "    }\n",
              "\n",
              "    .dataframe thead th {\n",
              "        text-align: right;\n",
              "    }\n",
              "</style>\n",
              "<table border=\"1\" class=\"dataframe\">\n",
              "  <thead>\n",
              "    <tr style=\"text-align: right;\">\n",
              "      <th></th>\n",
              "      <th>Mes</th>\n",
              "      <th>Ventas</th>\n",
              "      <th>Gastos</th>\n",
              "      <th>Columna 1</th>\n",
              "      <th>Columna 2</th>\n",
              "    </tr>\n",
              "  </thead>\n",
              "  <tbody>\n",
              "    <tr>\n",
              "      <th>0</th>\n",
              "      <td>Enero</td>\n",
              "      <td>30500</td>\n",
              "      <td>22000</td>\n",
              "      <td>138.64</td>\n",
              "      <td>Meta Superada</td>\n",
              "    </tr>\n",
              "    <tr>\n",
              "      <th>1</th>\n",
              "      <td>Febrero</td>\n",
              "      <td>35600</td>\n",
              "      <td>23450</td>\n",
              "      <td>151.81</td>\n",
              "      <td>Meta Superada</td>\n",
              "    </tr>\n",
              "    <tr>\n",
              "      <th>2</th>\n",
              "      <td>Marzo</td>\n",
              "      <td>28300</td>\n",
              "      <td>18100</td>\n",
              "      <td>156.35</td>\n",
              "      <td>Meta Superada</td>\n",
              "    </tr>\n",
              "    <tr>\n",
              "      <th>3</th>\n",
              "      <td>Abril</td>\n",
              "      <td>33900</td>\n",
              "      <td>35700</td>\n",
              "      <td>94.96</td>\n",
              "      <td>Meta Superada</td>\n",
              "    </tr>\n",
              "    <tr>\n",
              "      <th>4</th>\n",
              "      <td>Mayo</td>\n",
              "      <td>42500</td>\n",
              "      <td>32450</td>\n",
              "      <td>130.97</td>\n",
              "      <td>Meta Superada</td>\n",
              "    </tr>\n",
              "  </tbody>\n",
              "</table>\n",
              "</div>\n",
              "      <button class=\"colab-df-convert\" onclick=\"convertToInteractive('df-6c728b05-3e46-45d0-a8ac-0e2f7d524418')\"\n",
              "              title=\"Convert this dataframe to an interactive table.\"\n",
              "              style=\"display:none;\">\n",
              "        \n",
              "  <svg xmlns=\"http://www.w3.org/2000/svg\" height=\"24px\"viewBox=\"0 0 24 24\"\n",
              "       width=\"24px\">\n",
              "    <path d=\"M0 0h24v24H0V0z\" fill=\"none\"/>\n",
              "    <path d=\"M18.56 5.44l.94 2.06.94-2.06 2.06-.94-2.06-.94-.94-2.06-.94 2.06-2.06.94zm-11 1L8.5 8.5l.94-2.06 2.06-.94-2.06-.94L8.5 2.5l-.94 2.06-2.06.94zm10 10l.94 2.06.94-2.06 2.06-.94-2.06-.94-.94-2.06-.94 2.06-2.06.94z\"/><path d=\"M17.41 7.96l-1.37-1.37c-.4-.4-.92-.59-1.43-.59-.52 0-1.04.2-1.43.59L10.3 9.45l-7.72 7.72c-.78.78-.78 2.05 0 2.83L4 21.41c.39.39.9.59 1.41.59.51 0 1.02-.2 1.41-.59l7.78-7.78 2.81-2.81c.8-.78.8-2.07 0-2.86zM5.41 20L4 18.59l7.72-7.72 1.47 1.35L5.41 20z\"/>\n",
              "  </svg>\n",
              "      </button>\n",
              "      \n",
              "  <style>\n",
              "    .colab-df-container {\n",
              "      display:flex;\n",
              "      flex-wrap:wrap;\n",
              "      gap: 12px;\n",
              "    }\n",
              "\n",
              "    .colab-df-convert {\n",
              "      background-color: #E8F0FE;\n",
              "      border: none;\n",
              "      border-radius: 50%;\n",
              "      cursor: pointer;\n",
              "      display: none;\n",
              "      fill: #1967D2;\n",
              "      height: 32px;\n",
              "      padding: 0 0 0 0;\n",
              "      width: 32px;\n",
              "    }\n",
              "\n",
              "    .colab-df-convert:hover {\n",
              "      background-color: #E2EBFA;\n",
              "      box-shadow: 0px 1px 2px rgba(60, 64, 67, 0.3), 0px 1px 3px 1px rgba(60, 64, 67, 0.15);\n",
              "      fill: #174EA6;\n",
              "    }\n",
              "\n",
              "    [theme=dark] .colab-df-convert {\n",
              "      background-color: #3B4455;\n",
              "      fill: #D2E3FC;\n",
              "    }\n",
              "\n",
              "    [theme=dark] .colab-df-convert:hover {\n",
              "      background-color: #434B5C;\n",
              "      box-shadow: 0px 1px 3px 1px rgba(0, 0, 0, 0.15);\n",
              "      filter: drop-shadow(0px 1px 2px rgba(0, 0, 0, 0.3));\n",
              "      fill: #FFFFFF;\n",
              "    }\n",
              "  </style>\n",
              "\n",
              "      <script>\n",
              "        const buttonEl =\n",
              "          document.querySelector('#df-6c728b05-3e46-45d0-a8ac-0e2f7d524418 button.colab-df-convert');\n",
              "        buttonEl.style.display =\n",
              "          google.colab.kernel.accessAllowed ? 'block' : 'none';\n",
              "\n",
              "        async function convertToInteractive(key) {\n",
              "          const element = document.querySelector('#df-6c728b05-3e46-45d0-a8ac-0e2f7d524418');\n",
              "          const dataTable =\n",
              "            await google.colab.kernel.invokeFunction('convertToInteractive',\n",
              "                                                     [key], {});\n",
              "          if (!dataTable) return;\n",
              "\n",
              "          const docLinkHtml = 'Like what you see? Visit the ' +\n",
              "            '<a target=\"_blank\" href=https://colab.research.google.com/notebooks/data_table.ipynb>data table notebook</a>'\n",
              "            + ' to learn more about interactive tables.';\n",
              "          element.innerHTML = '';\n",
              "          dataTable['output_type'] = 'display_data';\n",
              "          await google.colab.output.renderOutput(dataTable, element);\n",
              "          const docLink = document.createElement('div');\n",
              "          docLink.innerHTML = docLinkHtml;\n",
              "          element.appendChild(docLink);\n",
              "        }\n",
              "      </script>\n",
              "    </div>\n",
              "  </div>\n",
              "  "
            ]
          },
          "metadata": {},
          "execution_count": 35
        }
      ]
    },
    {
      "cell_type": "code",
      "source": [
        "df_original.loc[df_original[\"Gastos\"] > df_original[\"Ventas\"], \"Columna 3\"] = df_original[\"Gastos\"] - df_original[\"Ventas\"]\n",
        "df_original"
      ],
      "metadata": {
        "colab": {
          "base_uri": "https://localhost:8080/",
          "height": 206
        },
        "id": "hMDxrZeVGOtF",
        "outputId": "22b8b0cb-aba1-40e1-927c-d5ddbe4bbf49"
      },
      "execution_count": null,
      "outputs": [
        {
          "output_type": "execute_result",
          "data": {
            "text/plain": [
              "       Mes   Ventas   Gastos  Columna 1  Columna 3\n",
              "0    Enero  30500.0  22000.0     138.64        NaN\n",
              "1  Febrero  35600.0  23450.0     151.81        NaN\n",
              "2    Marzo  28300.0  18100.0     156.35        NaN\n",
              "3    Abril  33900.0  35700.0      94.96     1800.0\n",
              "4     Mayo  42500.0  32450.0     130.97        NaN"
            ],
            "text/html": [
              "\n",
              "  <div id=\"df-b2f512a0-5f95-4cf0-8ad5-1223bfec5987\">\n",
              "    <div class=\"colab-df-container\">\n",
              "      <div>\n",
              "<style scoped>\n",
              "    .dataframe tbody tr th:only-of-type {\n",
              "        vertical-align: middle;\n",
              "    }\n",
              "\n",
              "    .dataframe tbody tr th {\n",
              "        vertical-align: top;\n",
              "    }\n",
              "\n",
              "    .dataframe thead th {\n",
              "        text-align: right;\n",
              "    }\n",
              "</style>\n",
              "<table border=\"1\" class=\"dataframe\">\n",
              "  <thead>\n",
              "    <tr style=\"text-align: right;\">\n",
              "      <th></th>\n",
              "      <th>Mes</th>\n",
              "      <th>Ventas</th>\n",
              "      <th>Gastos</th>\n",
              "      <th>Columna 1</th>\n",
              "      <th>Columna 3</th>\n",
              "    </tr>\n",
              "  </thead>\n",
              "  <tbody>\n",
              "    <tr>\n",
              "      <th>0</th>\n",
              "      <td>Enero</td>\n",
              "      <td>30500.0</td>\n",
              "      <td>22000.0</td>\n",
              "      <td>138.64</td>\n",
              "      <td>NaN</td>\n",
              "    </tr>\n",
              "    <tr>\n",
              "      <th>1</th>\n",
              "      <td>Febrero</td>\n",
              "      <td>35600.0</td>\n",
              "      <td>23450.0</td>\n",
              "      <td>151.81</td>\n",
              "      <td>NaN</td>\n",
              "    </tr>\n",
              "    <tr>\n",
              "      <th>2</th>\n",
              "      <td>Marzo</td>\n",
              "      <td>28300.0</td>\n",
              "      <td>18100.0</td>\n",
              "      <td>156.35</td>\n",
              "      <td>NaN</td>\n",
              "    </tr>\n",
              "    <tr>\n",
              "      <th>3</th>\n",
              "      <td>Abril</td>\n",
              "      <td>33900.0</td>\n",
              "      <td>35700.0</td>\n",
              "      <td>94.96</td>\n",
              "      <td>1800.0</td>\n",
              "    </tr>\n",
              "    <tr>\n",
              "      <th>4</th>\n",
              "      <td>Mayo</td>\n",
              "      <td>42500.0</td>\n",
              "      <td>32450.0</td>\n",
              "      <td>130.97</td>\n",
              "      <td>NaN</td>\n",
              "    </tr>\n",
              "  </tbody>\n",
              "</table>\n",
              "</div>\n",
              "      <button class=\"colab-df-convert\" onclick=\"convertToInteractive('df-b2f512a0-5f95-4cf0-8ad5-1223bfec5987')\"\n",
              "              title=\"Convert this dataframe to an interactive table.\"\n",
              "              style=\"display:none;\">\n",
              "        \n",
              "  <svg xmlns=\"http://www.w3.org/2000/svg\" height=\"24px\"viewBox=\"0 0 24 24\"\n",
              "       width=\"24px\">\n",
              "    <path d=\"M0 0h24v24H0V0z\" fill=\"none\"/>\n",
              "    <path d=\"M18.56 5.44l.94 2.06.94-2.06 2.06-.94-2.06-.94-.94-2.06-.94 2.06-2.06.94zm-11 1L8.5 8.5l.94-2.06 2.06-.94-2.06-.94L8.5 2.5l-.94 2.06-2.06.94zm10 10l.94 2.06.94-2.06 2.06-.94-2.06-.94-.94-2.06-.94 2.06-2.06.94z\"/><path d=\"M17.41 7.96l-1.37-1.37c-.4-.4-.92-.59-1.43-.59-.52 0-1.04.2-1.43.59L10.3 9.45l-7.72 7.72c-.78.78-.78 2.05 0 2.83L4 21.41c.39.39.9.59 1.41.59.51 0 1.02-.2 1.41-.59l7.78-7.78 2.81-2.81c.8-.78.8-2.07 0-2.86zM5.41 20L4 18.59l7.72-7.72 1.47 1.35L5.41 20z\"/>\n",
              "  </svg>\n",
              "      </button>\n",
              "      \n",
              "  <style>\n",
              "    .colab-df-container {\n",
              "      display:flex;\n",
              "      flex-wrap:wrap;\n",
              "      gap: 12px;\n",
              "    }\n",
              "\n",
              "    .colab-df-convert {\n",
              "      background-color: #E8F0FE;\n",
              "      border: none;\n",
              "      border-radius: 50%;\n",
              "      cursor: pointer;\n",
              "      display: none;\n",
              "      fill: #1967D2;\n",
              "      height: 32px;\n",
              "      padding: 0 0 0 0;\n",
              "      width: 32px;\n",
              "    }\n",
              "\n",
              "    .colab-df-convert:hover {\n",
              "      background-color: #E2EBFA;\n",
              "      box-shadow: 0px 1px 2px rgba(60, 64, 67, 0.3), 0px 1px 3px 1px rgba(60, 64, 67, 0.15);\n",
              "      fill: #174EA6;\n",
              "    }\n",
              "\n",
              "    [theme=dark] .colab-df-convert {\n",
              "      background-color: #3B4455;\n",
              "      fill: #D2E3FC;\n",
              "    }\n",
              "\n",
              "    [theme=dark] .colab-df-convert:hover {\n",
              "      background-color: #434B5C;\n",
              "      box-shadow: 0px 1px 3px 1px rgba(0, 0, 0, 0.15);\n",
              "      filter: drop-shadow(0px 1px 2px rgba(0, 0, 0, 0.3));\n",
              "      fill: #FFFFFF;\n",
              "    }\n",
              "  </style>\n",
              "\n",
              "      <script>\n",
              "        const buttonEl =\n",
              "          document.querySelector('#df-b2f512a0-5f95-4cf0-8ad5-1223bfec5987 button.colab-df-convert');\n",
              "        buttonEl.style.display =\n",
              "          google.colab.kernel.accessAllowed ? 'block' : 'none';\n",
              "\n",
              "        async function convertToInteractive(key) {\n",
              "          const element = document.querySelector('#df-b2f512a0-5f95-4cf0-8ad5-1223bfec5987');\n",
              "          const dataTable =\n",
              "            await google.colab.kernel.invokeFunction('convertToInteractive',\n",
              "                                                     [key], {});\n",
              "          if (!dataTable) return;\n",
              "\n",
              "          const docLinkHtml = 'Like what you see? Visit the ' +\n",
              "            '<a target=\"_blank\" href=https://colab.research.google.com/notebooks/data_table.ipynb>data table notebook</a>'\n",
              "            + ' to learn more about interactive tables.';\n",
              "          element.innerHTML = '';\n",
              "          dataTable['output_type'] = 'display_data';\n",
              "          await google.colab.output.renderOutput(dataTable, element);\n",
              "          const docLink = document.createElement('div');\n",
              "          docLink.innerHTML = docLinkHtml;\n",
              "          element.appendChild(docLink);\n",
              "        }\n",
              "      </script>\n",
              "    </div>\n",
              "  </div>\n",
              "  "
            ]
          },
          "metadata": {},
          "execution_count": 41
        }
      ]
    },
    {
      "cell_type": "code",
      "source": [
        "df2 = df_original.iloc[-3:,-4]\n",
        "df2\n",
        "print(\"El total de ventas de los ultimos tres meses es: \", df2.sum(axis=0))"
      ],
      "metadata": {
        "colab": {
          "base_uri": "https://localhost:8080/"
        },
        "id": "C1pXUXD0HfvU",
        "outputId": "66a18831-6d79-41cc-bc0d-95aab5965f98"
      },
      "execution_count": null,
      "outputs": [
        {
          "output_type": "execute_result",
          "data": {
            "text/plain": [
              "104700.0"
            ]
          },
          "metadata": {},
          "execution_count": 51
        }
      ]
    },
    {
      "cell_type": "code",
      "source": [
        "df3 = df_original.iloc[1:4,-2]\n",
        "df3\n",
        "print(\"El total de gastos de Febrero a Abril fue de: \", df3.sum(axis=0).round(2))"
      ],
      "metadata": {
        "colab": {
          "base_uri": "https://localhost:8080/"
        },
        "id": "RCBKLULuH-6V",
        "outputId": "e8b83566-cc39-4b0a-d67b-8a09b8ff8665"
      },
      "execution_count": null,
      "outputs": [
        {
          "output_type": "stream",
          "name": "stdout",
          "text": [
            "El total de gastos de Febrero a Abril fue de:  403.12\n"
          ]
        }
      ]
    }
  ]
}